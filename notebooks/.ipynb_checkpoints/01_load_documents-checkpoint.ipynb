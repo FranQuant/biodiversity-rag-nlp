{
 "cells": [
  {
   "cell_type": "markdown",
   "id": "ed6172d4",
   "metadata": {},
   "source": [
    "# Ingestion Pipeline\n",
    "\n",
    "# 01 - Load and Prepare ESG/Biodiversity Documents\n",
    "\n",
    "This notebook loads ESG and biodiversity-related PDFs and prepares them for embedding. It uses LlamaIndex to chunk and structure the documents."
   ]
  },
  {
   "cell_type": "markdown",
   "id": "e6a7d91b",
   "metadata": {},
   "source": [
    "### Install required packages\n",
    "```bash\n",
    "pip install llama-index chromadb PyMuPDF python-dotenv\n",
    "```"
   ]
  },
  {
   "cell_type": "code",
   "execution_count": 1,
   "id": "4a08a4fb",
   "metadata": {},
   "outputs": [
    {
     "data": {
      "text/plain": [
       "True"
      ]
     },
     "execution_count": 1,
     "metadata": {},
     "output_type": "execute_result"
    }
   ],
   "source": [
    "from llama_index.core import SimpleDirectoryReader\n",
    "from pathlib import Path\n",
    "import os\n",
    "from dotenv import load_dotenv\n",
    "from llama_index.core.schema import Document\n",
    "from llama_index.core.node_parser import SimpleNodeParser\n",
    "load_dotenv()"
   ]
  },
  {
   "cell_type": "markdown",
   "id": "5094ff4c",
   "metadata": {},
   "source": [
    "### Load PDFs from your local `/data/raw/` directory"
   ]
  },
  {
   "cell_type": "code",
   "execution_count": 2,
   "id": "fea0f62a",
   "metadata": {},
   "outputs": [
    {
     "name": "stdout",
     "output_type": "stream",
     "text": [
      "Loaded 11 full documents.\n",
      "Chunked into 11 total chunks.\n"
     ]
    }
   ],
   "source": [
    "# Set path to your ESG/Biodiversity documents\n",
    "doc_path = Path('../data/raw')\n",
    "\n",
    "documents = SimpleDirectoryReader(\n",
    "    input_dir=doc_path,\n",
    "    recursive=False,  # Do not load subdirectories\n",
    "    file_extractor={'pdf': 'pymupdf'},  # Extract full text from PDFs\n",
    "    filename_as_id=True  # Ensure document metadata includes filename\n",
    ").load_data()\n",
    "\n",
    "# 🔹 2️⃣ Merge multiple pages into a single document per file\n",
    "merged_documents = {}\n",
    "for doc in documents:\n",
    "    filename = doc.metadata.get('file_name', 'unknown')\n",
    "    if filename not in merged_documents:\n",
    "        merged_documents[filename] = Document(\n",
    "            text=doc.text, metadata=doc.metadata\n",
    "        )\n",
    "    else:\n",
    "        merged_documents[filename] = Document(\n",
    "            text=merged_documents[filename].text + \"\\n\" + doc.text,  # Merge text\n",
    "            metadata=merged_documents[filename].metadata  # Preserve metadata\n",
    "        )\n",
    "\n",
    "# Convert dictionary back to a list of single-document PDFs\n",
    "documents = list(merged_documents.values())\n",
    "\n",
    "print(f\"Loaded {len(documents)} full documents.\") \n",
    "\n",
    "# Apply controlled chunking: break docs into 3-sentence segments\n",
    "parser = SimpleNodeParser.from_defaults(\n",
    "    chunk_size=1024,      # Target ~1024 characters\n",
    "    chunk_overlap=200     # Allow 200 characters of overlap to retain context\n",
    ")\n",
    "\n",
    "chunked_documents = [parser.get_nodes_from_documents([doc]) for doc in documents]\n",
    "flattened_docs = [node for sublist in chunked_documents for node in sublist]\n",
    "\n",
    "print(f\"Chunked into {len(chunked_documents)} total chunks.\")"
   ]
  },
  {
   "cell_type": "markdown",
   "id": "8f34039c",
   "metadata": {},
   "source": [
    "### Preview the first few chunks"
   ]
  },
  {
   "cell_type": "code",
   "execution_count": 3,
   "id": "15bb37b1-b4a2-4656-b92e-7438d9bb2843",
   "metadata": {},
   "outputs": [
    {
     "name": "stdout",
     "output_type": "stream",
     "text": [
      "\n",
      "📄 Chunk 1 (From:  How investors and corporates are approaching natural capital _ LinkedIn.pdf)\n",
      "Critical thinking13,427 subscribers Subscribed\n",
      "How investors and corporates areapproaching natural capital\n",
      "Mercer - Investments36,369 followers\n",
      "September 27, 2024\n",
      "Cara Williams, Global Head of ESG, Climate and Sustainability\n",
      "As the sustainability agenda evolves, corporates and investors alike aregrappling with the complexity of valuing natural capital. The transitionfrom the Taskforce on Climate-related Financial Disclosures (TCFD) tothe Taskforce on Nature-related Financial Disclosures (TNFD) i\n",
      "--------------------------------------------------\n",
      "\n",
      "📄 Chunk 2 (From:  How investors and corporates are approaching natural capital _ LinkedIn.pdf)\n",
      "The first step towards TNFD alignment is measurement. Investors andcorporates can undertake an initial health check of their portfolio and/oroperations to understand areas in which their investments and/oroperations are negatively impacting natural capital resources. Tools likeMercerʼsResponsible Investment Total Evaluationcan helporganizations gain a better understanding of their current positioning,exposures and net impacts of operational activity, enabling them to charta clear path forward.\n",
      "D\n",
      "--------------------------------------------------\n",
      "\n",
      "📄 Chunk 3 (From: 2023-Chapter3.pdf)\n",
      "Environmental Factors\n",
      "LEARNING OUTCOMES\n",
      "Mastery The candidate should be able to:\n",
      "3.1.1 e xplain key concepts relating to climate change, including \n",
      "climate change mitigation, climate change adaptation, and \n",
      "resilience measures\n",
      "3.1.2 e xplain key concepts related to other environmental issues, \n",
      "including pressures on natural resources, including depletion \n",
      "of natural resources; water; biodiversity loss; land use and \n",
      "marine resources; pollution; waste; and a circular economy\n",
      "3.1.3 e xplain the sy\n",
      "--------------------------------------------------\n",
      "\n",
      "📄 Chunk 4 (From: 2023-Chapter3.pdf)\n",
      "Other investors may see the support of projects and activities with a positive \n",
      "environmental impact as a standalone end, regardless of financial impact. More \n",
      "broadly, the nature of investment mandates, time horizons, ultimate beneficiaries, or \n",
      "personal values—all can play a role in defining the preferences of investors in terms of \n",
      "risk, return, and impact. Growing awareness of environmental and climate impacts is \n",
      "reflected in increasing levels and scope of corporate disclosure (e.g., the ad\n",
      "--------------------------------------------------\n",
      "\n",
      "📄 Chunk 5 (From: 2023-Chapter3.pdf)\n",
      "All industrial processes \n",
      "release pollution, meaning unwanted harmful—sometimes toxic—chemicals, heat, or \n",
      "radiation. In the natural world, there is neither waste nor pollution. All materials not \n",
      "used by any organism become either building materials, food, or energy for a different \n",
      "organism. That is the idea behind the circular economy: It is an economy whereby \n",
      "all materials are used and reused multiple times—for example, turning waste paper \n",
      "into other forms of paper or into cellulose buildi\n",
      "--------------------------------------------------\n"
     ]
    }
   ],
   "source": [
    "# Preview first few\n",
    "# Step 5: Preview first few chunks\n",
    "for i, chunk in enumerate(flattened_docs[:5]):\n",
    "    print(f\"\\n📄 Chunk {i+1} (From: {chunk.metadata.get('file_name', 'Unknown')})\")\n",
    "    print(chunk.text[:500])\n",
    "    print('-' * 50)"
   ]
  }
 ],
 "metadata": {
  "kernelspec": {
   "display_name": "Python 3 (ipykernel)",
   "language": "python",
   "name": "python3"
  },
  "language_info": {
   "codemirror_mode": {
    "name": "ipython",
    "version": 3
   },
   "file_extension": ".py",
   "mimetype": "text/x-python",
   "name": "python",
   "nbconvert_exporter": "python",
   "pygments_lexer": "ipython3",
   "version": "3.10.16"
  }
 },
 "nbformat": 4,
 "nbformat_minor": 5
}
